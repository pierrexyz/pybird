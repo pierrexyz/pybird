{
 "cells": [
  {
   "cell_type": "markdown",
   "id": "1af94d27",
   "metadata": {
    "vscode": {
     "languageId": "raw"
    }
   },
   "source": [
    "# PyBird Run Class Demo: High-Level Parameter Inference\n",
    "\n",
    "This notebook demonstrates the **PyBird Run class**, a high-level convenience wrapper built on top of the Inference class that facilitates easy parameter minimization inference with different built-in mimnimizers and samplers. The also provides useful timing dignostics and other quality of life features. \n"
   ]
  },
  {
   "cell_type": "markdown",
   "id": "ad146377",
   "metadata": {
    "vscode": {
     "languageId": "raw"
    }
   },
   "source": [
    "## **Import Libraries**\n",
    "Setting up the required libraries for the analysis:\n"
   ]
  },
  {
   "cell_type": "code",
   "execution_count": 1,
   "id": "b88dcc1f-b0d3-43c2-9474-9843b6836f33",
   "metadata": {},
   "outputs": [],
   "source": [
    "import os, sys\n",
    "import numpy as np\n",
    "import matplotlib\n",
    "import matplotlib.pyplot as plt\n",
    "import yaml"
   ]
  },
  {
   "cell_type": "code",
   "execution_count": 2,
   "id": "93634c1b-c885-4691-b45e-a5cb929eb14d",
   "metadata": {},
   "outputs": [],
   "source": [
    "from getdist import loadMCSamples, plots, mcsamples, MCSamples"
   ]
  },
  {
   "cell_type": "code",
   "execution_count": 3,
   "id": "30370f9a-8df3-4687-a85c-c687c63efeb3",
   "metadata": {},
   "outputs": [],
   "source": [
    "from pybird.run import Run"
   ]
  },
  {
   "cell_type": "markdown",
   "id": "046541d0-938f-419c-b7e9-5f1cff6507f3",
   "metadata": {},
   "source": [
    "## **Overview: The PyBird Run Class**\n",
    "\n",
    "The **Run class** is a convenience wrapper that:\n",
    "- **Simplifies** the inference workflow by handling configuration automatically\n",
    "- **Supports multiple algorithms** for both minimization and sampling\n",
    "- **Manages** JAX acceleration, Taylor expansion, and other optimizations\n",
    "- **Provides** a unified interface for different analysis setups\n",
    "\n",
    "---"
   ]
  },
  {
   "cell_type": "markdown",
   "id": "829cff3a-e4e3-4393-bd7c-3e18e6b4234a",
   "metadata": {},
   "source": [
    "### **Directory Paths**\n",
    "\n",
    "Setting up paths to data and output directories:"
   ]
  },
  {
   "cell_type": "code",
   "execution_count": 4,
   "id": "9ff06a32-518b-4f1a-863f-5b2e7b779e45",
   "metadata": {},
   "outputs": [],
   "source": [
    "# Define directory structure\n",
    "rootdir = \"../\"\n",
    "datadir = os.path.join(rootdir, 'data', 'eftboss')\n",
    "outdir = os.path.join(rootdir, 'data', 'eftboss', 'out')"
   ]
  },
  {
   "cell_type": "markdown",
   "id": "ca0e00a9-6272-40f2-a782-bd22c96ca47d",
   "metadata": {},
   "source": [
    "### **Likelihood Configuration**\n",
    "\n",
    "Loading and configuring the likelihood setup for BOSS CMASS NGC analysis:"
   ]
  },
  {
   "cell_type": "code",
   "execution_count": 5,
   "id": "97e7bb7b-45d0-469d-8ba3-8eade8ac5fbf",
   "metadata": {},
   "outputs": [],
   "source": [
    "# Configuration settings\n",
    "configname = 'boss_cmass_ngc_pk_eft'  # BOSS CMASS NGC configuration"
   ]
  },
  {
   "cell_type": "code",
   "execution_count": 6,
   "id": "36bac119-e701-4bec-9fcb-e9ce584ca7b1",
   "metadata": {},
   "outputs": [
    {
     "name": "stdout",
     "output_type": "stream",
     "text": [
      "data_path: ../data/eftboss\n",
      "data_file: boss_dr12_2pt.h5\n",
      "output: bPk\n",
      "multipole: 3\n",
      "with_wedge: true\n",
      "wedge_type: PA-w1-w2\n",
      "with_ap: true\n",
      "with_survey_mask: true\n",
      "sky:\n",
      "    cmass_ngc:\n",
      "        min:\n",
      "        - 0.01\n",
      "        - 0.01\n",
      "        - 0.01\n",
      "        max:\n",
      "        - 0.3\n",
      "        - 0.2\n",
      "        - 0.1\n",
      "write:\n",
      "    save: true\n",
      "    fake: false\n",
      "    plot: true\n",
      "    show: true\n",
      "    out_path: data/eftboss/out/\n",
      "    out_name: boss_pk_cmass_ngc_eft_ns\n",
      "km: 0.7\n",
      "kr: 0.25\n",
      "nd: 0.0003\n",
      "eft_basis: eftoflss\n",
      "with_stoch: true\n",
      "with_nnlo_counterterm: true\n",
      "with_loop_prior: false\n",
      "eft_prior:\n",
      "    b1:\n",
      "        type: lognormal\n",
      "        mean:\n",
      "        - 0.8\n",
      "        range:\n",
      "        - 0.8944\n",
      "    b2:\n",
      "        type: gauss\n",
      "        mean:\n",
      "        - 0.0\n",
      "        range:\n",
      "        - 2.0\n",
      "    b4:\n",
      "        type: gauss\n",
      "        mean:\n",
      "        - 0.0\n",
      "        range:\n",
      "        - 2.0\n",
      "    b3:\n",
      "        type: marg_gauss\n",
      "        mean:\n",
      "        - 0.0\n",
      "        range:\n",
      "        - 2.0\n",
      "    cct:\n",
      "        type: marg_gauss\n",
      "        mean:\n",
      "        - 0.0\n",
      "        range:\n",
      "        - 2.0\n",
      "    cr1:\n",
      "        type: marg_gauss\n",
      "        mean:\n",
      "        - 0.0\n",
      "        range:\n",
      "        - 2.0\n",
      "    cr2:\n",
      "        type: marg_gauss\n",
      "        mean:\n",
      "        - 0.0\n",
      "        range:\n",
      "        - 2.0\n",
      "    ce0:\n",
      "        type: marg_gauss\n",
      "        mean:\n",
      "        - 0.0\n",
      "        range:\n",
      "        - 2.0\n",
      "    ce1:\n",
      "        type: marg_gauss\n",
      "        mean:\n",
      "        - 0.0\n",
      "        range:\n",
      "        - 2.0\n",
      "    ce2:\n",
      "        type: marg_gauss\n",
      "        mean:\n",
      "        - 0.0\n",
      "        range:\n",
      "        - 2.0\n",
      "    cr4:\n",
      "        type: marg_gauss\n",
      "        mean:\n",
      "        - 0.0\n",
      "        range:\n",
      "        - 2.0\n",
      "    cr6:\n",
      "        type: marg_gauss\n",
      "        mean:\n",
      "        - 0.0\n",
      "        range:\n",
      "        - 2.0\n",
      "\n"
     ]
    }
   ],
   "source": [
    "# Load likelihood configuration from YAML file\n",
    "likelihood_config = yaml.full_load(open(os.path.join(datadir, 'config', f'{configname}.yaml'), 'r'))\n",
    "# Update paths and settings\n",
    "likelihood_config[\"data_path\"] = datadir\n",
    "print(yaml.dump(likelihood_config, indent=4, sort_keys=False))"
   ]
  },
  {
   "cell_type": "markdown",
   "id": "a36e8238-8f93-452a-831c-20ddba374ff1",
   "metadata": {},
   "source": [
    "### **Run Configuration**\n",
    "\n",
    "Setting up the inference parameters, samplers, and optimization settings:"
   ]
  },
  {
   "cell_type": "code",
   "execution_count": 7,
   "id": "84d095da-cba6-4df5-9550-183656bff493",
   "metadata": {},
   "outputs": [
    {
     "name": "stdout",
     "output_type": "stream",
     "text": [
      "free_cosmo_name:\n",
      "- omega_cdm\n",
      "- h\n",
      "- ln10^{10}A_s\n",
      "- n_s\n",
      "fiducial_cosmo:\n",
      "    omega_b: 0.02235\n",
      "    omega_cdm: 0.12\n",
      "    h: 0.675\n",
      "    ln10^{10}A_s: 3.044\n",
      "    n_s: 0.965\n",
      "jax_jit: true\n",
      "taylor: false\n",
      "vectorize: true\n",
      "measure: false\n",
      "boltzmann: Symbolic\n",
      "minimizers:\n",
      "- minuit\n",
      "- adam\n",
      "- adam\n",
      "- minuit\n",
      "samplers:\n",
      "- fisher\n",
      "- emcee\n",
      "\n"
     ]
    }
   ],
   "source": [
    "# Load run configuration\n",
    "run_config = yaml.full_load(open(os.path.join(datadir, 'run_config', 'run_example.yaml'), 'r'))\n",
    "print(yaml.dump(run_config, indent=4, sort_keys=False))"
   ]
  },
  {
   "cell_type": "markdown",
   "id": "63fe62b4-ec84-4aa3-a287-ef357303a59e",
   "metadata": {},
   "source": [
    "---\n",
    "\n",
    "## **Sampling Setup: Algorithms and Acceleration**\n",
    "\n",
    "Configuring specific algorithms and optimizations for parameter inference:"
   ]
  },
  {
   "cell_type": "markdown",
   "id": "c503c88f",
   "metadata": {
    "vscode": {
     "languageId": "raw"
    }
   },
   "source": [
    "### **Algorithm Selection**\n",
    "\n",
    "Choosing minimizers and samplers for comprehensive parameter inference:\n",
    "\n",
    "* Currently this notebook showcases all available samplers, feel free to pick the ones you are interested in to reduce the eventual runtime of the notebook...\n"
   ]
  },
  {
   "cell_type": "code",
   "execution_count": 8,
   "id": "ceb1a2ee-b5df-4af1-aa62-2873cf530db9",
   "metadata": {},
   "outputs": [],
   "source": [
    "minimizers = [\"minuit\", \"adam\"] #cycle to ensure we find the true minimum  \n",
    "samplers = ['fisher', 'emcee', 'zeus', 'nuts', 'mclmc', 'nautilus']\n"
   ]
  },
  {
   "cell_type": "markdown",
   "id": "d23055f6",
   "metadata": {
    "vscode": {
     "languageId": "raw"
    }
   },
   "source": [
    "### **Acceleration Settings**\n",
    "\n",
    "Configuring JAX + Emulator acceleration and Taylor expansion for fast inference:\n"
   ]
  },
  {
   "cell_type": "code",
   "execution_count": 9,
   "id": "0404b383-826c-4f0a-bbae-5c0a36da753e",
   "metadata": {},
   "outputs": [
    {
     "name": "stdout",
     "output_type": "stream",
     "text": [
      "**Acceleration Features:**\n",
      "Boltzmann: Symbolic\n",
      "Taylor Expansion: True\n",
      "Emulation: True\n",
      "Free Parameters: ['omega_cdm', 'h', 'ln10^{10}A_s']\n"
     ]
    }
   ],
   "source": [
    "# Update run configuration for speed\n",
    "run_config['free_cosmo_name'] = ['omega_cdm', 'h', 'ln10^{10}A_s']  # Vary 3 cosmological parameters\n",
    "\n",
    "# Acceleration settings\n",
    "run_config['boltzmann'] = 'Symbolic'  # Use differentiable Boltzmann solver\n",
    "run_config['taylor'] = True  # Enable Taylor expansion for speedup\n",
    "likelihood_config['with_emu'] = True  # Enable emulation for additional speedup\n",
    "\n",
    "print(\"**Acceleration Features:**\")\n",
    "print(f\"Boltzmann: {run_config['boltzmann']}\")\n",
    "print(f\"Taylor Expansion: {run_config['taylor']}\")\n",
    "print(f\"Emulation: {likelihood_config['with_emu']}\")\n",
    "print(f\"Free Parameters: {run_config['free_cosmo_name']}\")"
   ]
  },
  {
   "cell_type": "markdown",
   "id": "322785e2",
   "metadata": {
    "vscode": {
     "languageId": "raw"
    }
   },
   "source": [
    "### **Initialize Run Class**\n",
    "\n",
    "Creating the Run instance with our configuration:\n"
   ]
  },
  {
   "cell_type": "code",
   "execution_count": 10,
   "id": "330ef371",
   "metadata": {},
   "outputs": [
    {
     "name": "stdout",
     "output_type": "stream",
     "text": [
      "**Initializing PyBird Run Class...**\n",
      "free_cosmo_name: ['omega_cdm', 'h', 'ln10^{10}A_s']\n",
      "fiducial_cosmo: {'omega_b': 0.02235, 'omega_cdm': 0.12, 'h': 0.675, 'ln10^{10}A_s': 3.044, 'n_s': 0.965}\n",
      "cosmo_prior: False\n",
      "ext_probe: False\n",
      "ext_loglkl: None\n",
      "measure: False\n",
      "taylor_measure: False\n",
      "debiasing: False\n",
      "hessian_type: None\n",
      "vectorize: True\n",
      "taylor: True\n",
      "jax_jit: True\n",
      "order: 3\n",
      "boltzmann: Symbolic\n",
      "'vectorize' or 'taylor' is True, setting 'jax_jit' to True\n",
      "jax: on\n"
     ]
    },
    {
     "name": "stderr",
     "output_type": "stream",
     "text": [
      "ERROR:2025-07-28 15:49:10,644:jax._src.xla_bridge:647: Jax plugin configuration error: Exception when calling jax_plugins.xla_cuda12.initialize()\n",
      "Traceback (most recent call last):\n",
      "  File \"/cluster/project/refregier/areeves/pybird_clean/lib/python3.11/site-packages/jax/_src/xla_bridge.py\", line 645, in discover_pjrt_plugins\n",
      "    plugin_module.initialize()\n",
      "  File \"/cluster/project/refregier/areeves/pybird_clean/lib/python3.11/site-packages/jax_plugins/xla_cuda12/__init__.py\", line 103, in initialize\n",
      "    triton.register_compilation_handler(\n",
      "    ^^^^^^^^^^^^^^^^^^^^^^^^^^^^^^^^^^^\n",
      "AttributeError: module 'jax._src.lib.triton' has no attribute 'register_compilation_handler'\n"
     ]
    },
    {
     "name": "stdout",
     "output_type": "stream",
     "text": [
      "reading data file: ../data/eftboss/boss_dr12_2pt.h5\n",
      "-----------------------\n",
      "sky: cmass_ngc\n",
      "output: bPk\n",
      "wedge (rotation of multipole): PA-w1-w2 | read wedge instead of multipole in the following\n",
      "multipole: 3\n",
      "min bound (per multipole): [0.01, 0.01, 0.01]\n",
      "max bound (per multipole): [0.3, 0.2, 0.1]\n",
      "coordinate (AP) distortion: on\n",
      "survey mask: on\n",
      "-----------------------\n",
      "cmass_ngc: Hartlap factor correction on precision matrix estimated from 2048 mocks for 53 bins\n",
      "-----------------------\n",
      "get_maxlkl : False\n",
      "with_boss_correlated_skies_prior : False\n",
      "with_rs_marg : False\n",
      "drop_logdet : False\n",
      "cache : False\n",
      "-----------------------\n"
     ]
    }
   ],
   "source": [
    "# Initialize the Run class\n",
    "print(\"**Initializing PyBird Run Class...**\")\n",
    "R = Run(run_config, likelihood_config, outdir, verbose=True)"
   ]
  },
  {
   "cell_type": "markdown",
   "id": "caa42588",
   "metadata": {
    "vscode": {
     "languageId": "raw"
    }
   },
   "source": [
    "---\n",
    "\n",
    "## **Parameter Inference: Minimization & Sampling**\n",
    "\n",
    "Now we'll run the complete inference pipeline:\n",
    "\n",
    "* Note when using all of these samplers sequnetially this takes ~10 minutes on a GPU and ~30 minutes on a CPU \n",
    "* Just looking at a given sampler is as simple as removing the others from the list of \"samplers\" \n"
   ]
  },
  {
   "cell_type": "code",
   "execution_count": 11,
   "id": "53f704f8-1c2a-41c4-ac5d-01550ab3628f",
   "metadata": {},
   "outputs": [
    {
     "name": "stdout",
     "output_type": "stream",
     "text": [
      "**Starting Parameter Inference Pipeline...**\n",
      "\n",
      "============================================================\n",
      "----- minimisation with minuit -----\n",
      "Taylor: expanding cosmology-dependent correlator pieces...\n",
      "Taylor: no best-fit values found --- using provided fiducial values instead\n",
      "Taylor: derivatives up to order 3 computed in 154.526 sec.\n",
      "starting from previously found best-fit\n",
      "minimisation starts...\n",
      "minimisation done in 2.200 sec.\n",
      "min chi2: 47.453, ndata: 53, dof: 39, p-value: 0.166\n",
      "bestfit ['omega_cdm', 'h', 'ln10^{10}A_s', 'b2', 'b4']: [0.129 0.697 2.809 2.18  0.754]\n",
      "----- minimisation with adam -----\n",
      "starting from previously found best-fit\n",
      "minimisation starts...\n",
      "Stopping at step 211 due to chi2 plateauing.\n",
      "minimisation done in 10.419 sec.\n",
      "min chi2: 47.454, ndata: 53, dof: 39, p-value: 0.166\n",
      "bestfit ['omega_cdm', 'h', 'ln10^{10}A_s', 'b2', 'b4']: [0.129 0.697 2.809 2.179 0.747]\n",
      "----- sampling with fisher -----\n",
      "warning: no vectorization in fisher; switching off\n",
      "starting from previously found best-fit\n",
      "sampling starts...\n"
     ]
    },
    {
     "name": "stderr",
     "output_type": "stream",
     "text": [
      "/cluster/work/refregier/alexree/local_packages/pybird_emu/pybird/inference.py:191: RuntimeWarning: covariance is not symmetric positive-semidefinite.\n",
      "  samples = multivariate_normal(initial_pos, self.C_fisher, size=size)\n"
     ]
    },
    {
     "name": "stdout",
     "output_type": "stream",
     "text": [
      "sampling done in 21.001 sec.\n",
      "----- sampling with emcee -----\n",
      "starting from previously found best-fit\n",
      "emcee: vectorized\n",
      "sampling starts...\n",
      "Fisher matrix found: drawing initial conditions from multivariate normal\n"
     ]
    },
    {
     "name": "stderr",
     "output_type": "stream",
     "text": [
      "/cluster/work/refregier/alexree/local_packages/pybird_emu/pybird/inference.py:203: RuntimeWarning: covariance is not symmetric positive-semidefinite.\n",
      "  self.pos = multivariate_normal(initial_pos, self.C_fisher, size=n_walkers)\n",
      "100%|██████████| 20000/20000 [01:35<00:00, 209.64it/s]\n"
     ]
    },
    {
     "name": "stdout",
     "output_type": "stream",
     "text": [
      "autocorr time:  [ 77.  68.  83.  86. 112.]\n",
      "sampling done in 97.351 sec.\n",
      "----- sampling with zeus -----\n",
      "starting from previously found best-fit\n"
     ]
    },
    {
     "name": "stderr",
     "output_type": "stream",
     "text": [
      "/cluster/work/refregier/alexree/local_packages/pybird_emu/pybird/inference.py:228: RuntimeWarning: covariance is not symmetric positive-semidefinite.\n",
      "  self.pos = multivariate_normal(initial_pos, self.C_fisher, size=n_walkers)\n",
      "Initialising ensemble of 20 walkers...\n"
     ]
    },
    {
     "name": "stdout",
     "output_type": "stream",
     "text": [
      "zeus: vectorized\n",
      "sampling starts...\n",
      "Fisher matrix found: drawing initial conditions from multivariate normal\n"
     ]
    },
    {
     "name": "stderr",
     "output_type": "stream",
     "text": [
      "Sampling progress : 100%|██████████| 20000/20000 [08:21<00:00, 39.88it/s]\n"
     ]
    },
    {
     "name": "stdout",
     "output_type": "stream",
     "text": [
      "sampling done in 503.410 sec.\n",
      "----- sampling with nuts -----\n",
      "warning: no vectorization in nuts; switching off\n",
      "starting from previously found best-fit\n",
      "sampling starts...\n",
      "warmup done in 55 sec.\n",
      "avg accept rate: 0.84, frac divergent: 0.000\n",
      "sampling done in 37 sec.\n",
      "sampling done in 427.593 sec.\n",
      "----- sampling with mclmc -----\n",
      "warning: no vectorization in mclmc; switching off\n",
      "starting from previously found best-fit\n",
      "sampling starts...\n",
      "MCLMC: Running adaptation for 50000 steps...\n",
      "MCLMC: Adaptation result has 3 elements\n",
      "MCLMC: Adaptation successful...\n",
      "MCLMC: Running sampling for 125000 steps...\n",
      "MCLMC: Sampling completed...\n",
      "sampling done in 194.985 sec.\n",
      "----- sampling with nautilus -----\n",
      "warning: no vectorization in nautilus; switching off\n",
      "starting from previously found best-fit\n",
      "sampling starts...\n",
      "Warning: using default prior of [-5, 5] for all parameters - note for Nautilus this is not recommended and will likely lead to NaNs\n",
      "Warning: using default prior of [-5, 5] for all parameters - note for Nautilus this is not recommended and will likely lead to NaNs\n",
      "Warning: using default prior of [-5, 5] for all parameters - note for Nautilus this is not recommended and will likely lead to NaNs\n",
      "Warning: using default prior of [-5, 5] for all parameters - note for Nautilus this is not recommended and will likely lead to NaNs\n",
      "Warning: using default prior of [-5, 5] for all parameters - note for Nautilus this is not recommended and will likely lead to NaNs\n",
      "Starting the nautilus sampler...\n",
      "Please report issues at github.com/johannesulf/nautilus.\n",
      "Status    | Bounds | Ellipses | Networks | Calls    | f_live | N_eff | log Z    \n",
      "Finished  | 38     | 1        | 4        | 90100    | N/A    | 17452 | -46.00   \n"
     ]
    },
    {
     "ename": "NameError",
     "evalue": "name '_' is not defined",
     "output_type": "error",
     "traceback": [
      "\u001b[31m---------------------------------------------------------------------------\u001b[39m",
      "\u001b[31mNameError\u001b[39m                                 Traceback (most recent call last)",
      "\u001b[36mCell\u001b[39m\u001b[36m \u001b[39m\u001b[32mIn[11]\u001b[39m\u001b[32m, line 5\u001b[39m\n\u001b[32m      2\u001b[39m \u001b[38;5;28mprint\u001b[39m(\u001b[33m\"\u001b[39m\u001b[38;5;130;01m\\n\u001b[39;00m\u001b[33m\"\u001b[39m + \u001b[33m\"\u001b[39m\u001b[33m=\u001b[39m\u001b[33m\"\u001b[39m*\u001b[32m60\u001b[39m)\n\u001b[32m      4\u001b[39m \u001b[38;5;66;03m# Run the complete inference pipeline\u001b[39;00m\n\u001b[32m----> \u001b[39m\u001b[32m5\u001b[39m results = \u001b[43mR\u001b[49m\u001b[43m.\u001b[49m\u001b[43mrun\u001b[49m\u001b[43m(\u001b[49m\n\u001b[32m      6\u001b[39m \u001b[43m    \u001b[49m\u001b[43mminimizers\u001b[49m\u001b[43m=\u001b[49m\u001b[43mminimizers\u001b[49m\u001b[43m,\u001b[49m\n\u001b[32m      7\u001b[39m \u001b[43m    \u001b[49m\u001b[43msamplers\u001b[49m\u001b[43m=\u001b[49m\u001b[43msamplers\u001b[49m\u001b[43m,\u001b[49m\n\u001b[32m      8\u001b[39m \u001b[43m    \u001b[49m\u001b[43msample_fake\u001b[49m\u001b[43m=\u001b[49m\u001b[38;5;28;43;01mFalse\u001b[39;49;00m\u001b[43m,\u001b[49m\n\u001b[32m      9\u001b[39m \u001b[43m    \u001b[49m\u001b[43moutput\u001b[49m\u001b[43m=\u001b[49m\u001b[38;5;28;43;01mTrue\u001b[39;49;00m\u001b[43m,\u001b[49m\n\u001b[32m     10\u001b[39m \u001b[43m    \u001b[49m\u001b[43msave_to_file\u001b[49m\u001b[43m=\u001b[49m\u001b[38;5;28;43;01mTrue\u001b[39;49;00m\u001b[43m,\u001b[49m\n\u001b[32m     11\u001b[39m \u001b[43m    \u001b[49m\u001b[43mhash_file\u001b[49m\u001b[43m=\u001b[49m\u001b[43mconfigname\u001b[49m\u001b[43m,\u001b[49m\n\u001b[32m     12\u001b[39m \u001b[43m    \u001b[49m\u001b[43mverbose\u001b[49m\u001b[43m=\u001b[49m\u001b[38;5;28;43;01mTrue\u001b[39;49;00m\n\u001b[32m     13\u001b[39m \u001b[43m)\u001b[49m\n\u001b[32m     15\u001b[39m \u001b[38;5;28mprint\u001b[39m(\u001b[33m\"\u001b[39m\u001b[38;5;130;01m\\n\u001b[39;00m\u001b[33m\"\u001b[39m + \u001b[33m\"\u001b[39m\u001b[33m=\u001b[39m\u001b[33m\"\u001b[39m*\u001b[32m60\u001b[39m)\n",
      "\u001b[36mFile \u001b[39m\u001b[32m/cluster/work/refregier/alexree/local_packages/pybird_emu/pybird/run.py:159\u001b[39m, in \u001b[36mRun.run\u001b[39m\u001b[34m(self, minimizers, samplers, initial_pos, samplers_options, return_extras, set_fake, sample_fake, output, save_to_file, hash_file, verbose)\u001b[39m\n\u001b[32m    157\u001b[39m toc = tic()                 \u001b[38;5;66;03m# timing starts...\u001b[39;00m\n\u001b[32m    158\u001b[39m \u001b[38;5;28;01mif\u001b[39;00m return_extras: samples, free_param_name, extras = \u001b[38;5;28mself\u001b[39m.I.get_p(initial_pos=initial_pos, verbose=verbose)\n\u001b[32m--> \u001b[39m\u001b[32m159\u001b[39m \u001b[38;5;28;01melse\u001b[39;00m: samples, free_param_name = \u001b[38;5;28;43mself\u001b[39;49m\u001b[43m.\u001b[49m\u001b[43mI\u001b[49m\u001b[43m.\u001b[49m\u001b[43mget_p\u001b[49m\u001b[43m(\u001b[49m\u001b[43minitial_pos\u001b[49m\u001b[43m=\u001b[49m\u001b[43minitial_pos\u001b[49m\u001b[43m,\u001b[49m\u001b[43m \u001b[49m\u001b[43mverbose\u001b[49m\u001b[43m=\u001b[49m\u001b[43mverbose\u001b[49m\u001b[43m)\u001b[49m\n\u001b[32m    160\u001b[39m elapse_time = tic() - toc   \u001b[38;5;66;03m# ... timing ends\u001b[39;00m\n\u001b[32m    161\u001b[39m \u001b[38;5;28;01mif\u001b[39;00m verbose: \u001b[38;5;28mprint\u001b[39m (\u001b[33m'\u001b[39m\u001b[33msampling done in \u001b[39m\u001b[38;5;132;01m%.3f\u001b[39;00m\u001b[33m sec.\u001b[39m\u001b[33m'\u001b[39m % elapse_time)\n",
      "\u001b[36mFile \u001b[39m\u001b[32m/cluster/work/refregier/alexree/local_packages/pybird_emu/pybird/inference.py:490\u001b[39m, in \u001b[36mInference.set_sampler.<locals>.get_p\u001b[39m\u001b[34m(**kwargs)\u001b[39m\n\u001b[32m    489\u001b[39m \u001b[38;5;28;01mdef\u001b[39;00m\u001b[38;5;250m \u001b[39m\u001b[34mget_p\u001b[39m(**kwargs):\n\u001b[32m--> \u001b[39m\u001b[32m490\u001b[39m     samples, extras = \u001b[43m_get_p\u001b[49m\u001b[43m(\u001b[49m\u001b[43m*\u001b[49m\u001b[43m*\u001b[49m\u001b[43mkwargs\u001b[49m\u001b[43m,\u001b[49m\u001b[43m \u001b[49m\u001b[43m*\u001b[49m\u001b[43m*\u001b[49m\u001b[43moptions\u001b[49m\u001b[43m)\u001b[49m\n\u001b[32m    491\u001b[39m     \u001b[38;5;28;01mif\u001b[39;00m debiasing: samples = samples + \u001b[38;5;28mself\u001b[39m.bias\n\u001b[32m    492\u001b[39m     \u001b[38;5;28;01mif\u001b[39;00m is_jax: clear_caches() \u001b[38;5;66;03m# useful if we want to do consecutive runs\u001b[39;00m\n",
      "\u001b[36mFile \u001b[39m\u001b[32m/cluster/work/refregier/alexree/local_packages/pybird_emu/pybird/inference.py:485\u001b[39m, in \u001b[36mInference.set_sampler.<locals>._get_p\u001b[39m\u001b[34m(initial_pos, max_calls, prior_dict, verbose)\u001b[39m\n\u001b[32m    482\u001b[39m random_idx = choices(\u001b[38;5;28mrange\u001b[39m(\u001b[38;5;28mlen\u001b[39m(log_w)), weights=exp(log_w), k=\u001b[32m500\u001b[39m*n)\n\u001b[32m    483\u001b[39m samples = samples[random_idx]\n\u001b[32m--> \u001b[39m\u001b[32m485\u001b[39m \u001b[38;5;28;01mreturn\u001b[39;00m samples, \u001b[43m_\u001b[49m\n",
      "\u001b[31mNameError\u001b[39m: name '_' is not defined"
     ]
    }
   ],
   "source": [
    "print(\"**Starting Parameter Inference Pipeline...**\")\n",
    "print(\"\\n\" + \"=\"*60)\n",
    "\n",
    "# Run the complete inference pipeline\n",
    "results = R.run(\n",
    "    minimizers=minimizers,\n",
    "    samplers=samplers,\n",
    "    sample_fake=False,\n",
    "    output=True,\n",
    "    save_to_file=True,\n",
    "    hash_file=configname,\n",
    "    verbose=True\n",
    ")\n",
    "\n",
    "print(\"\\n\" + \"=\"*60)\n"
   ]
  },
  {
   "cell_type": "markdown",
   "id": "209646d5",
   "metadata": {
    "vscode": {
     "languageId": "raw"
    }
   },
   "source": [
    "---\n",
    "\n",
    "## **Results Analysis & Visualization**\n",
    "\n",
    "Analyzing and visualizing the inference results:\n"
   ]
  },
  {
   "cell_type": "markdown",
   "id": "a6145022",
   "metadata": {
    "vscode": {
     "languageId": "raw"
    }
   },
   "source": [
    "### **Prepare GetDist Samples**\n",
    "\n",
    "Converting PyBird results to GetDist format for analysis:\n"
   ]
  },
  {
   "cell_type": "code",
   "execution_count": null,
   "id": "4965fca4-912e-4bf6-9f93-b636e2344904",
   "metadata": {},
   "outputs": [],
   "source": [
    "# Convert results to GetDist MCSamples format\n",
    "samples = {}\n",
    "for sampler in samplers:\n",
    "    if sampler in results:\n",
    "        samples[sampler] = MCSamples(\n",
    "            samples=results[sampler]['samples'],\n",
    "            names=results[sampler]['free parameters'],\n",
    "            labels=results[sampler]['free parameters']\n",
    "        )\n",
    "\n",
    "print(\"**Sample Statistics:**\")\n",
    "for sampler, sample in samples.items():\n",
    "    print(f\"   {sampler}: {len(sample.samples)} samples\")\n",
    "\n",
    "print(\"\\nGetDist samples prepared successfully!\")"
   ]
  },
  {
   "cell_type": "markdown",
   "id": "55ed677a",
   "metadata": {
    "vscode": {
     "languageId": "raw"
    }
   },
   "source": [
    "### **Triangle Plot: Posterior Comparison**\n",
    "\n",
    "Creating a comprehensive triangle plot comparing all sampling methods:\n"
   ]
  },
  {
   "cell_type": "code",
   "execution_count": null,
   "id": "ea9a7e1b-ab98-4421-ab2d-1d8393404320",
   "metadata": {},
   "outputs": [],
   "source": [
    "results['mclmc']"
   ]
  },
  {
   "cell_type": "code",
   "execution_count": null,
   "id": "49c156dd",
   "metadata": {},
   "outputs": [],
   "source": [
    "# Create triangle plot comparing all samplers\n",
    "%matplotlib inline \n",
    "print(\"**Creating Triangle Plot...**\")\n",
    "\n",
    "g = plots.get_subplot_plotter(width_inch=8)\n",
    "g.triangle_plot(\n",
    "    [s for s in samples.values()],\n",
    "    results['mclmc']['free parameters'],\n",
    "    filled=False,\n",
    "    markers=results['minuit']['bestfit'],\n",
    "    legend_labels=[l for l in samples.keys()],\n",
    "    legend_loc=\"upper right\",\n",
    "    \n",
    ")\n",
    "\n",
    "plt.tight_layout()\n",
    "plt.show()\n",
    "\n",
    "print(\"\\nTriangle plot created successfully!\")\n"
   ]
  }
 ],
 "metadata": {
  "kernelspec": {
   "display_name": "pybird_clean",
   "language": "python",
   "name": "pybird_clean"
  },
  "language_info": {
   "codemirror_mode": {
    "name": "ipython",
    "version": 3
   },
   "file_extension": ".py",
   "mimetype": "text/x-python",
   "name": "python",
   "nbconvert_exporter": "python",
   "pygments_lexer": "ipython3",
   "version": "3.11.6"
  }
 },
 "nbformat": 4,
 "nbformat_minor": 5
}
