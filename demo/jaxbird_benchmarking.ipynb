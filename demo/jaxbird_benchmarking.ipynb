{
 "cells": [
  {
   "cell_type": "markdown",
   "metadata": {
    "vscode": {
     "languageId": "raw"
    }
   },
   "source": [
    "# JAXBird Performance Benchmarking\n",
    "\n",
    "This notebook benchmarks PyBird performance across different backends:\n",
    "- **Standard PyBird** (NumPy backend)\n",
    "- **JAXBird** (JAX backend, full computation)  \n",
    "- **JAXBird + Emulator** (JAX backend with neural network emulator)\n",
    "- **Vectorized JAXBird + Emulator** (Batch processing multiple cosmologies)"
   ]
  },
  {
   "cell_type": "markdown",
   "metadata": {
    "vscode": {
     "languageId": "raw"
    }
   },
   "source": [
    "## Setup\n"
   ]
  },
  {
   "cell_type": "code",
   "execution_count": 1,
   "metadata": {},
   "outputs": [
    {
     "name": "stdout",
     "output_type": "stream",
     "text": [
      "JAX Backend: cpu\n",
      "JAX Devices: [CpuDevice(id=0)]\n"
     ]
    }
   ],
   "source": [
    "import os\n",
    "os.environ[\"JAX_PLATFORMS\"] = \"cpu\"\n",
    "import jax\n",
    "jax.config.update(\"jax_enable_x64\", True)\n",
    "\n",
    "# Standard imports\n",
    "import numpy as np\n",
    "import jax.numpy as jnp\n",
    "import matplotlib.pyplot as plt\n",
    "from timeit import timeit\n",
    "from scipy.interpolate import interp1d\n",
    "from jax import grad, jit, vmap\n",
    "from pybird.symbolic import Symbolic \n",
    "# Set random seeds for reproducibility\n",
    "np.random.seed(1)\n",
    "key = jax.random.PRNGKey(1)\n",
    "key, subkey = jax.random.split(key)\n",
    "\n",
    "\n",
    "# PyBird imports\n",
    "import pybird.config as config\n",
    "from pybird.correlator import Correlator\n",
    "\n",
    "print(f\"JAX Backend: {jax.default_backend()}\")\n",
    "print(f\"JAX Devices: {jax.devices()}\")\n"
   ]
  },
  {
   "cell_type": "markdown",
   "metadata": {
    "vscode": {
     "languageId": "raw"
    }
   },
   "source": [
    "## **Cosmology Setup**\n",
    "\n",
    "\n",
    "Setting up simple cosmology without external data dependencies. Lets use our internal `Symbolic` emulator for this \n"
   ]
  },
  {
   "cell_type": "code",
   "execution_count": 2,
   "metadata": {},
   "outputs": [
    {
     "name": "stdout",
     "output_type": "stream",
     "text": [
      "EFT Parameters: {'b1': '1.950', 'b2': '0.410', 'b3': '-0.360', 'b4': '0.410', 'cct': '0.180', 'cr1': '-0.840', 'cr2': '-0.810', 'ce0': '1.500', 'ce1': '0.000', 'ce2': '-1.630'}\n"
     ]
    }
   ],
   "source": [
    "z = 0.57\n",
    "k_r, k_l = 0.7, 1e-4\n",
    "kk = np.logspace(np.log10(k_l), np.log10(k_r), 500)\n",
    "\n",
    "# Use simple k-array for output \n",
    "kmax = 0.4\n",
    "\n",
    "# Cosmological parameters \n",
    "cosmo = {'omega_b': 0.02235, 'omega_cdm': 0.120, 'h': 0.675, 'ln10^{10}A_s': 3.044, 'n_s': 0.965}\n",
    "\n",
    "# Initialize Symbolic cosmology class\n",
    "S = Symbolic()\n",
    "S.set(cosmo)\n",
    "S.compute(kk, z)\n",
    "\n",
    "# Extract power spectrum and cosmological parameters\n",
    "pk_lin = S.pk_lin  # Linear power spectrum at redshift z\n",
    "D1, f1 = S.D, S.f  # Growth factor and growth rate\n",
    "\n",
    "\n",
    "eft_params = {\n",
    "    'b1': 1.95, 'b2': 0.41, 'b3': -0.36, 'b4': 0.41,\n",
    "    'cct': 0.18, 'cr1': -0.84, 'cr2': -0.81,\n",
    "    'ce0': 1.50, 'ce1': 0.0, 'ce2': -1.63\n",
    "}\n",
    "print(\"EFT Parameters:\", {k: f\"{v:.3f}\" for k, v in eft_params.items()})\n"
   ]
  },
  {
   "cell_type": "markdown",
   "metadata": {
    "vscode": {
     "languageId": "raw"
    }
   },
   "source": [
    "## Benchmark 1: Standard PyBird (NumPy)\n"
   ]
  },
  {
   "cell_type": "code",
   "execution_count": 3,
   "metadata": {},
   "outputs": [
    {
     "name": "stdout",
     "output_type": "stream",
     "text": [
      "Initializing Standard PyBird...\n",
      "Benchmarking Standard PyBird...\n",
      "Standard PyBird: 1.084 seconds per evaluation\n",
      "Output shape: (3, 77)\n"
     ]
    }
   ],
   "source": [
    "# Disable JAX for standard PyBird\n",
    "config.set_jax_enabled(False)\n",
    "\n",
    "# Setup standard PyBird correlator - simplified without survey masks or AP\n",
    "N_bird = Correlator()\n",
    "N_bird.set({\n",
    "    'output': 'bPk', 'multipole': 3,\n",
    "    'kmax': kmax, 'with_resum': True, \n",
    "    'with_exact_time': True, 'with_time': False,\n",
    "    'km': 0.7, 'kr': 0.25, 'nd': 3e-4,\n",
    "    'eft_basis': 'eftoflss', 'with_stoch': True, \n",
    "    'fftaccboost':2,\n",
    "})\n",
    "\n",
    "kd = N_bird.co.k #internal knots used by PyBird\n",
    "\n",
    "def compute_standard_pk(pk_lin_variation):\n",
    "    \"\"\"Compute power spectrum with standard PyBird (no AP or survey mask)\"\"\"\n",
    "    N_bird.compute({\n",
    "        'kk': kk, 'pk_lin': pk_lin_variation, 'D': D1, 'f': f1, 'z': z})\n",
    "    return N_bird.get(eft_params)\n",
    "\n",
    "# Warmup run\n",
    "print(\"Initializing Standard PyBird...\")\n",
    "bpk_reference = compute_standard_pk(pk_lin)\n",
    "\n",
    "# Benchmark timing\n",
    "print(\"Benchmarking Standard PyBird...\")\n",
    "num_runs = 20\n",
    "std_time = timeit(lambda: compute_standard_pk(pk_lin), number=num_runs)\n",
    "avg_time = std_time / num_runs\n",
    "\n",
    "print(f\"Standard PyBird: {avg_time:.3f} seconds per evaluation\")\n",
    "print(f\"Output shape: {bpk_reference.shape}\")\n",
    "\n",
    "# Store timing for comparison\n",
    "benchmark_times = {'Standard PyBird': avg_time}\n"
   ]
  },
  {
   "cell_type": "markdown",
   "metadata": {
    "vscode": {
     "languageId": "raw"
    }
   },
   "source": [
    "## Benchmark 2: JAXBird (JAX without emulator)\n"
   ]
  },
  {
   "cell_type": "code",
   "execution_count": 4,
   "metadata": {},
   "outputs": [
    {
     "name": "stdout",
     "output_type": "stream",
     "text": [
      "jax: on\n",
      "Compiling JAXBird...\n",
      "Benchmarking JAXBird...\n",
      "JAXBird: 0.269 seconds per evaluation\n",
      "Speedup: 4.0x faster than Standard PyBird\n"
     ]
    }
   ],
   "source": [
    "config.set_jax_enabled(True)\n",
    "\n",
    "pk_lin_jax = jnp.array(pk_lin)\n",
    "kk_jax = jnp.array(kk)\n",
    "\n",
    "# Setup JAXBird correlator - simplified without survey masks or AP\n",
    "N_jax = Correlator()\n",
    "N_jax.set({\n",
    "    'output': 'bPk', 'multipole': 3,\n",
    "    'kmax': kmax, 'with_resum': True,\n",
    "    'with_exact_time': True, 'with_time': False,\n",
    "    'km': 0.7, 'kr': 0.25, 'nd': 3e-4,\n",
    "    'eft_basis': 'eftoflss', 'with_stoch': True,\n",
    "    'fftaccboost':2,\n",
    "})\n",
    "\n",
    "def compute_jax_pk(pk_lin_variation):\n",
    "    N_jax.compute({\n",
    "        'kk': kk_jax, 'pk_lin': pk_lin_variation, 'D': D1, 'f': f1, 'z': z})\n",
    "    return N_jax.get(eft_params)\n",
    "\n",
    "# JIT compile\n",
    "jit_compute_jax_pk = jit(compute_jax_pk)\n",
    "\n",
    "# Warmup compilation\n",
    "print(\"Compiling JAXBird...\")\n",
    "bpk_jax = jit_compute_jax_pk(pk_lin_jax)\n",
    "\n",
    "# Benchmark timing\n",
    "print(\"Benchmarking JAXBird...\")\n",
    "num_runs = 200\n",
    "jax_time = timeit(lambda: jit_compute_jax_pk(pk_lin_jax), number=num_runs)\n",
    "avg_time = jax_time / num_runs\n",
    "\n",
    "print(f\"JAXBird: {avg_time:.3f} seconds per evaluation\")\n",
    "speedup = benchmark_times['Standard PyBird'] / avg_time\n",
    "print(f\"Speedup: {speedup:.1f}x faster than Standard PyBird\")\n",
    "\n",
    "# Store timing\n",
    "benchmark_times['JAXBird'] = avg_time\n"
   ]
  },
  {
   "cell_type": "markdown",
   "metadata": {
    "vscode": {
     "languageId": "raw"
    }
   },
   "source": [
    "## Benchmark 3: JAXBird + Emulator\n"
   ]
  },
  {
   "cell_type": "code",
   "execution_count": 5,
   "metadata": {},
   "outputs": [
    {
     "name": "stdout",
     "output_type": "stream",
     "text": [
      "Compiling JAXBird + Emulator...\n",
      "Benchmarking JAXBird + Emulator...\n",
      "JAXBird + Emulator: 0.0006 seconds per evaluation\n",
      "Speedup: 1797.8x faster than Standard PyBird\n"
     ]
    }
   ],
   "source": [
    "# Setup JAXBird with emulator - simplified without survey masks or AP\n",
    "N_emu = Correlator()\n",
    "N_emu.set({\n",
    "    'output': 'bPk', 'multipole': 3,\n",
    "    'kmax': kmax, 'with_resum': True,\n",
    "    'with_exact_time': True, 'with_time': False,\n",
    "    'km': 0.7, 'kr': 0.25, 'nd': 3e-4,\n",
    "    'with_emu': True,  # Enable emulator\n",
    "    'eft_basis': 'eftoflss', 'with_stoch': True, \n",
    "    'fftaccboost':2,\n",
    "})\n",
    "\n",
    "def compute_emu_pk(pk_lin_variation):\n",
    "    \"\"\"Compute power spectrum with JAXBird + Emulator (no AP or survey mask)\"\"\"\n",
    "    N_emu.compute({\n",
    "        'kk': kk_jax, 'pk_lin': pk_lin_variation, 'D': D1, 'f': f1, 'z': z})\n",
    "    return N_emu.get(eft_params)\n",
    "\n",
    "# JIT compile\n",
    "jit_compute_emu_pk = jit(compute_emu_pk)\n",
    "\n",
    "# Warmup compilation\n",
    "print(\"Compiling JAXBird + Emulator...\")\n",
    "bpk_emu = jit_compute_emu_pk(pk_lin_jax)\n",
    "\n",
    "# Benchmark timing\n",
    "print(\"Benchmarking JAXBird + Emulator...\")\n",
    "num_runs = 500\n",
    "emu_time = timeit(lambda: jit_compute_emu_pk(pk_lin_jax), number=num_runs)\n",
    "avg_time = emu_time / num_runs\n",
    "\n",
    "print(f\"JAXBird + Emulator: {avg_time:.4f} seconds per evaluation\")\n",
    "speedup = benchmark_times['Standard PyBird'] / avg_time\n",
    "print(f\"Speedup: {speedup:.1f}x faster than Standard PyBird\")\n",
    "\n",
    "# Store timing\n",
    "benchmark_times['JAXBird + Emulator'] = avg_time\n"
   ]
  },
  {
   "cell_type": "markdown",
   "metadata": {
    "vscode": {
     "languageId": "raw"
    }
   },
   "source": [
    "## Benchmark 4: Vectorized JAXBird + Emulator (Batch Processing)\n"
   ]
  },
  {
   "cell_type": "code",
   "execution_count": 6,
   "metadata": {},
   "outputs": [
    {
     "name": "stdout",
     "output_type": "stream",
     "text": [
      "Creating batch of 256 different cosmologies...\n",
      "Compiling Vectorized JAXBird + Emulator...\n",
      "Benchmarking Vectorized JAXBird + Emulator...\n",
      "Vectorized JAXBird + Emulator: 0.0272 seconds for 256 cosmologies\n",
      "Per cosmology: 0.00011 seconds per evaluation\n",
      "Speedup: 10196x faster than Standard PyBird\n",
      "Vectorization efficiency: 5.7x (ideal would be 256x)\n"
     ]
    }
   ],
   "source": [
    "# Vectorized JAXBird + Emulator for batch processing multiple cosmologies\n",
    "# This demonstrates the massive speedup when evaluating many cosmologies simultaneously\n",
    "\n",
    "# Create vectorized version using vmap\n",
    "vmap_compute_emu_pk = jit(vmap(compute_emu_pk, in_axes=0))\n",
    "\n",
    "# Test with batch of cosmologies\n",
    "batch_size = 256\n",
    "print(f\"Creating batch of {batch_size} different cosmologies...\")\n",
    "\n",
    "# Generate batch of slightly different power spectra (simulating different cosmologies)\n",
    "pk_batch = jnp.array([pk_lin_jax * (1 + 0.05*np.random.randn()) for _ in range(batch_size)])\n",
    "\n",
    "# Warmup compilation for vectorized version\n",
    "print(\"Compiling Vectorized JAXBird + Emulator...\")\n",
    "bpk_batch = vmap_compute_emu_pk(pk_batch)\n",
    "\n",
    "# Benchmark vectorized processing\n",
    "print(\"Benchmarking Vectorized JAXBird + Emulator...\")\n",
    "num_runs = 200\n",
    "batch_time = timeit(lambda: vmap_compute_emu_pk(pk_batch * (1 + 0.01*jnp.array(np.random.randn(batch_size, 1)))), number=num_runs)\n",
    "avg_batch_time = batch_time / num_runs\n",
    "avg_per_cosmology = avg_batch_time / batch_size\n",
    "\n",
    "print(f\"Vectorized JAXBird + Emulator: {avg_batch_time:.4f} seconds for {batch_size} cosmologies\")\n",
    "print(f\"Per cosmology: {avg_per_cosmology:.5f} seconds per evaluation\")\n",
    "\n",
    "speedup = benchmark_times['Standard PyBird'] / avg_per_cosmology\n",
    "print(f\"Speedup: {speedup:.0f}x faster than Standard PyBird\")\n",
    "\n",
    "# Compare efficiency\n",
    "efficiency = batch_size * benchmark_times['JAXBird + Emulator'] / avg_batch_time\n",
    "print(f\"Vectorization efficiency: {efficiency:.1f}x (ideal would be {batch_size}x)\")\n",
    "\n",
    "# Store timing\n",
    "benchmark_times['Vectorized JAXBird + Emulator'] = avg_per_cosmology\n"
   ]
  },
  {
   "cell_type": "markdown",
   "metadata": {
    "vscode": {
     "languageId": "raw"
    }
   },
   "source": [
    "## Performance Summary\n"
   ]
  },
  {
   "cell_type": "code",
   "execution_count": 7,
   "metadata": {},
   "outputs": [
    {
     "name": "stdout",
     "output_type": "stream",
     "text": [
      "======================================================================\n",
      "PYBIRD PERFORMANCE BENCHMARK RESULTS\n",
      "======================================================================\n",
      "Standard PyBird               : 1.08439 seconds  (    1x speedup)\n",
      "JAXBird                       : 0.26864 seconds  (    4x speedup)\n",
      "JAXBird + Emulator            : 0.00060 seconds  ( 1798x speedup)\n",
      "Vectorized JAXBird + Emulator : 0.00011 seconds  (10196x speedup)\n",
      "======================================================================\n"
     ]
    },
    {
     "data": {
      "image/png": "[encoded data removed]",
      "text/plain": [
       "<Figure size 1600x600 with 2 Axes>"
      ]
     },
     "metadata": {},
     "output_type": "display_data"
    }
   ],
   "source": [
    "# Performance comparison and visualization\n",
    "print(\"=\" * 70)\n",
    "print(\"PYBIRD PERFORMANCE BENCHMARK RESULTS\")\n",
    "print(\"=\" * 70)\n",
    "\n",
    "for method, time in benchmark_times.items():\n",
    "    speedup = benchmark_times['Standard PyBird'] / time\n",
    "    print(f\"{method:30s}: {time:.5f} seconds  ({speedup:5.0f}x speedup)\")\n",
    "\n",
    "print(\"=\" * 70)\n",
    "\n",
    "# Create comprehensive performance comparison plot\n",
    "fig, (ax1, ax2) = plt.subplots(1, 2, figsize=(16, 6))\n",
    "\n",
    "# Plot 1: Execution time (log scale)\n",
    "methods = list(benchmark_times.keys())\n",
    "times = list(benchmark_times.values())\n",
    "colors = ['#1f77b4', '#ff7f0e', '#2ca02c', '#d62728']\n",
    "\n",
    "bars1 = ax1.bar(methods, times, color=colors, alpha=0.7, edgecolor='black', linewidth=1)\n",
    "ax1.set_ylabel('Time per evaluation (seconds)', fontsize=12)\n",
    "ax1.set_title('Execution Time Comparison', fontsize=14, fontweight='bold')\n",
    "ax1.set_yscale('log')\n",
    "\n",
    "# Add value labels on bars\n",
    "for bar, time in zip(bars1, times):\n",
    "    height = bar.get_height()\n",
    "    ax1.text(bar.get_x() + bar.get_width()/2., height,\n",
    "             f'{time:.5f}s', ha='center', va='bottom', fontsize=9, rotation=45)\n",
    "\n",
    "plt.setp(ax1.get_xticklabels(), rotation=45, ha='right')\n",
    "\n",
    "# Plot 2: Speedup factors\n",
    "speedups = [benchmark_times['Standard PyBird'] / time for time in times]\n",
    "bars2 = ax2.bar(methods, speedups, color=colors, alpha=0.7, edgecolor='black', linewidth=1)\n",
    "ax2.set_ylabel('Speedup Factor', fontsize=12)\n",
    "ax2.set_title('Speedup vs Standard PyBird', fontsize=14, fontweight='bold')\n",
    "ax2.set_yscale('log')\n",
    "\n",
    "# Add speedup labels\n",
    "for bar, speedup in zip(bars2, speedups):\n",
    "    height = bar.get_height()\n",
    "    ax2.text(bar.get_x() + bar.get_width()/2., height,\n",
    "             f'{speedup:.0f}x', ha='center', va='bottom', fontsize=10, fontweight='bold')\n",
    "\n",
    "plt.setp(ax2.get_xticklabels(), rotation=45, ha='right')\n",
    "\n",
    "plt.tight_layout()\n",
    "plt.show()\n"
   ]
  },
  {
   "cell_type": "code",
   "execution_count": null,
   "metadata": {},
   "outputs": [],
   "source": []
  }
 ],
 "metadata": {
  "kernelspec": {
   "display_name": "pybird_emu_jax_vec_new",
   "language": "python",
   "name": "pybird_emu_jax_vec_new"
  },
  "language_info": {
   "codemirror_mode": {
    "name": "ipython",
    "version": 3
   },
   "file_extension": ".py",
   "mimetype": "text/x-python",
   "name": "python",
   "nbconvert_exporter": "python",
   "pygments_lexer": "ipython3",
   "version": "3.10.13"
  }
 },
 "nbformat": 4,
 "nbformat_minor": 4
}
