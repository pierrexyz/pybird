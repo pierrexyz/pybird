{
 "cells": [
  {
   "cell_type": "code",
   "execution_count": 1,
   "id": "63b8bdf2",
   "metadata": {},
   "outputs": [],
   "source": [
    "import os, sys\n",
    "import numpy as np\n",
    "import h5py, yaml\n",
    "from pybird.io_pb import ReadWrite"
   ]
  },
  {
   "cell_type": "code",
   "execution_count": 2,
   "id": "fc081496",
   "metadata": {},
   "outputs": [],
   "source": [
    "import importlib, pybird\n",
    "importlib.reload(pybird.io_pb)\n",
    "from pybird.io_pb import ReadWrite, get_dict_from_hdf5, save_dict_to_hdf5"
   ]
  },
  {
   "cell_type": "markdown",
   "id": "6754ea12",
   "metadata": {},
   "source": [
    "Loading data in .npy format"
   ]
  },
  {
   "cell_type": "code",
   "execution_count": 3,
   "id": "8dcb0113",
   "metadata": {},
   "outputs": [],
   "source": [
    "rootdir = os.path.join(os.path.expanduser('~'), 'Documents', 'github', 'pybird')\n",
    "configdir = os.path.join(rootdir, 'data', 'efteboss', 'config')"
   ]
  },
  {
   "cell_type": "code",
   "execution_count": 4,
   "id": "74ce0662",
   "metadata": {},
   "outputs": [
    {
     "name": "stdout",
     "output_type": "stream",
     "text": [
      "data_path: /Users/pierre/Documents/github/pybird/data/efteboss/\n",
      "data_file: eboss_dr16_2pt.h5\n",
      "output: bPk\n",
      "multipole: 2\n",
      "with_wedge: false\n",
      "wedge_type: PA-w1-w2\n",
      "with_ap: true\n",
      "with_survey_mask: false\n",
      "with_binning: false\n",
      "sky:\n",
      "    ngc:\n",
      "        min:\n",
      "        - 0.01\n",
      "        - 0.01\n",
      "        max:\n",
      "        - 0.24\n",
      "        - 0.24\n",
      "    sgc:\n",
      "        min:\n",
      "        - 0.01\n",
      "        - 0.01\n",
      "        max:\n",
      "        - 0.24\n",
      "        - 0.24\n",
      "write:\n",
      "    save: false\n",
      "    fake: false\n",
      "    plot: false\n",
      "    show: false\n",
      "    out_path: /Users/pierre/Documents/github/pybird/data/efteboss/out/\n",
      "    out_name: eboss_pk_wc\n",
      "km: 0.7\n",
      "kr: 0.25\n",
      "nd: 2.0e-05\n",
      "eft_basis: westcoast\n",
      "with_stoch: true\n",
      "with_nnlo_counterterm: false\n",
      "eft_prior:\n",
      "    b1:\n",
      "        type: flat\n",
      "        range: null\n",
      "    c2:\n",
      "        type: gauss\n",
      "        mean:\n",
      "        - 0.0\n",
      "        - 0.0\n",
      "        range:\n",
      "        - 2.0\n",
      "        - 2.0\n",
      "    c4:\n",
      "        type: unvaried\n",
      "    b3:\n",
      "        type: marg_gauss\n",
      "        mean:\n",
      "        - 0.0\n",
      "        - 0.0\n",
      "        range:\n",
      "        - 2.0\n",
      "        - 2.0\n",
      "    cct:\n",
      "        type: marg_gauss\n",
      "        mean:\n",
      "        - 0.0\n",
      "        - 0.0\n",
      "        range:\n",
      "        - 2.0\n",
      "        - 2.0\n",
      "    cr1:\n",
      "        type: marg_gauss\n",
      "        mean:\n",
      "        - 0.0\n",
      "        - 0.0\n",
      "        range:\n",
      "        - 2.0\n",
      "        - 2.0\n",
      "    cr2:\n",
      "        type: marg_gauss\n",
      "        mean:\n",
      "        - 0.0\n",
      "        - 0.0\n",
      "        range:\n",
      "        - 2.0\n",
      "        - 2.0\n",
      "    ce0:\n",
      "        type: marg_gauss\n",
      "        mean:\n",
      "        - 0.0\n",
      "        - 0.0\n",
      "        range:\n",
      "        - 2.0\n",
      "        - 2.0\n",
      "    ce1:\n",
      "        type: unvaried\n",
      "    ce2:\n",
      "        type: marg_gauss\n",
      "        mean:\n",
      "        - 0.0\n",
      "        - 0.0\n",
      "        range:\n",
      "        - 2.0\n",
      "        - 2.0\n",
      "    cr4:\n",
      "        type: unvaried\n",
      "    cr6:\n",
      "        type: unvaried\n",
      "\n"
     ]
    }
   ],
   "source": [
    "config = yaml.full_load(open(os.path.join(configdir, 'eboss_pk_wc.yaml'), 'r'))\n",
    "config[\"data_path\"] = os.path.join(rootdir, config[\"data_path\"])\n",
    "config[\"write\"][\"out_path\"] = os.path.join(rootdir, config[\"write\"][\"out_path\"])\n",
    "print ( yaml.dump(config, indent=4, sort_keys=False))\n",
    "config[\"data_file\"] = \"eboss_dr16_2pt.npy\""
   ]
  },
  {
   "cell_type": "code",
   "execution_count": 5,
   "id": "489798d6",
   "metadata": {},
   "outputs": [],
   "source": [
    "io = ReadWrite()"
   ]
  },
  {
   "cell_type": "code",
   "execution_count": 6,
   "id": "688c004b",
   "metadata": {},
   "outputs": [
    {
     "name": "stdout",
     "output_type": "stream",
     "text": [
      "reading data file: /Users/pierre/Documents/github/pybird/data/efteboss/eboss_dr16_2pt.npy\n",
      "-----------------------\n",
      "sky: ngc\n",
      "output: bPk\n",
      "multipole: 2\n",
      "min bound (per multipole): [0.01, 0.01]\n",
      "max bound (per multipole): [0.24, 0.24]\n",
      "coordinate (AP) distortion: on\n",
      "-----------------------\n",
      "-----------------------\n",
      "sky: sgc\n",
      "output: bPk\n",
      "multipole: 2\n",
      "min bound (per multipole): [0.01, 0.01]\n",
      "max bound (per multipole): [0.24, 0.24]\n",
      "coordinate (AP) distortion: on\n",
      "-----------------------\n",
      "ngc: Hartlap factor correction on precision matrix estimated from 1000 mocks for 46 bins\n",
      "sgc: Hartlap factor correction on precision matrix estimated from 1000 mocks for 46 bins\n"
     ]
    }
   ],
   "source": [
    "d, _, _ = io.read(config, verbose=True) "
   ]
  },
  {
   "cell_type": "markdown",
   "id": "369c3473",
   "metadata": {},
   "source": [
    "```d``` is a python nested dictionary"
   ]
  },
  {
   "cell_type": "markdown",
   "id": "0e32eb7a",
   "metadata": {},
   "source": [
    "Saving it to hdf5"
   ]
  },
  {
   "cell_type": "code",
   "execution_count": 7,
   "id": "e401f1cb",
   "metadata": {},
   "outputs": [
    {
     "name": "stdout",
     "output_type": "stream",
     "text": [
      "/Users/pierre/Documents/github/pybird/data/efteboss/eboss_dr16_2pt.h5\n"
     ]
    }
   ],
   "source": [
    "h5filename = os.path.join(config[\"data_path\"], '%s.h5') % config[\"data_file\"].split('.', 1)[0]\n",
    "print (h5filename)"
   ]
  },
  {
   "cell_type": "code",
   "execution_count": 8,
   "id": "80362d1e",
   "metadata": {},
   "outputs": [],
   "source": [
    "with h5py.File(h5filename, 'w') as hf: save_dict_to_hdf5(hf, d)"
   ]
  },
  {
   "cell_type": "markdown",
   "id": "adc062c1",
   "metadata": {},
   "source": [
    "Get back the dictionary from hdf5"
   ]
  },
  {
   "cell_type": "code",
   "execution_count": 9,
   "id": "acc8bec2",
   "metadata": {},
   "outputs": [],
   "source": [
    "with h5py.File(h5filename, 'r') as hf: d2 = get_dict_from_hdf5(hf)"
   ]
  },
  {
   "cell_type": "code",
   "execution_count": null,
   "id": "7e7245e8",
   "metadata": {},
   "outputs": [],
   "source": []
  }
 ],
 "metadata": {
  "kernelspec": {
   "display_name": "Python 3 (ipykernel)",
   "language": "python",
   "name": "python3"
  },
  "language_info": {
   "codemirror_mode": {
    "name": "ipython",
    "version": 3
   },
   "file_extension": ".py",
   "mimetype": "text/x-python",
   "name": "python",
   "nbconvert_exporter": "python",
   "pygments_lexer": "ipython3",
   "version": "3.11.9"
  }
 },
 "nbformat": 4,
 "nbformat_minor": 5
}
