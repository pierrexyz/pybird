{
 "cells": [
  {
   "cell_type": "code",
   "execution_count": 1,
   "metadata": {},
   "outputs": [],
   "source": [
    "import os, sys\n",
    "import numpy as np\n",
    "import matplotlib\n",
    "import matplotlib.pyplot as plt\n",
    "import yaml, h5py\n",
    "from classy import Class\n",
    "from iminuit import minimize as minuit"
   ]
  },
  {
   "cell_type": "code",
   "execution_count": 2,
   "metadata": {},
   "outputs": [],
   "source": [
    "font = {'size': 14}\n",
    "axislabelfontsize='large'\n",
    "matplotlib.rc('font', **font)"
   ]
  },
  {
   "cell_type": "code",
   "execution_count": 3,
   "metadata": {},
   "outputs": [],
   "source": [
    "from pybird.correlator import Correlator\n",
    "from pybird.io_pb import ReadWrite, save_dict_to_hdf5\n",
    "from pybird.likelihood import Likelihood"
   ]
  },
  {
   "cell_type": "markdown",
   "metadata": {},
   "source": [
    "# Data format for EFT likelihood"
   ]
  },
  {
   "cell_type": "markdown",
   "metadata": {},
   "source": [
    "The best way to understand what is the format of the data read by the EFT likelihood is to construct one. \n",
    "\n",
    "***Let us construct a fake data from an EFT prediction.***"
   ]
  },
  {
   "cell_type": "code",
   "execution_count": 4,
   "metadata": {},
   "outputs": [],
   "source": [
    "datadir = os.path.join(os.path.expanduser('~'), 'Documents', 'github', 'pybird', 'data')"
   ]
  },
  {
   "cell_type": "markdown",
   "metadata": {},
   "source": [
    "### Setting the EFT prediction"
   ]
  },
  {
   "cell_type": "markdown",
   "metadata": {},
   "source": [
    "Redshift?"
   ]
  },
  {
   "cell_type": "code",
   "execution_count": 5,
   "metadata": {},
   "outputs": [],
   "source": [
    "z = 0.57"
   ]
  },
  {
   "cell_type": "markdown",
   "metadata": {},
   "source": [
    "First, we create a CLASS engine `M`, that will provide linear cosmology stuff to the PyBird correlator engine. "
   ]
  },
  {
   "cell_type": "code",
   "execution_count": 6,
   "metadata": {},
   "outputs": [],
   "source": [
    "M = Class()\n",
    "cosmo = {'omega_b': 0.02235, 'omega_cdm': 0.120, 'h': 0.675, 'ln10^{10}A_s': 3.044, 'n_s': 0.965}\n",
    "M.set(cosmo)\n",
    "M.set({'output': 'mPk', 'P_k_max_h/Mpc': 10, 'z_max_pk': z})\n",
    "M.compute()"
   ]
  },
  {
   "cell_type": "code",
   "execution_count": 7,
   "metadata": {},
   "outputs": [],
   "source": [
    "from scipy.interpolate import interp1d\n",
    "kk = np.logspace(-5, 0, 200)\n",
    "pk_lin = np.array([M.pk_lin(k*M.h(), z)*M.h()**3 for k in kk]) \n",
    "ipk_lin = interp1d(kk, pk_lin, kind='cubic')"
   ]
  },
  {
   "cell_type": "code",
   "execution_count": 8,
   "metadata": {},
   "outputs": [],
   "source": [
    "f1 = M.scale_independent_growth_factor_f(z)"
   ]
  },
  {
   "cell_type": "markdown",
   "metadata": {},
   "source": [
    "We need some distortion (AP) parameters."
   ]
  },
  {
   "cell_type": "code",
   "execution_count": 9,
   "metadata": {},
   "outputs": [],
   "source": [
    "H_ap, D_ap = M.Hubble(z) / M.Hubble(0.), M.angular_distance(z) * M.Hubble(0.)"
   ]
  },
  {
   "cell_type": "code",
   "execution_count": 10,
   "metadata": {},
   "outputs": [
    {
     "name": "stdout",
     "output_type": "stream",
     "text": [
      "Omega_m_fid: 0.310\n"
     ]
    }
   ],
   "source": [
    "M_fid = Class()\n",
    "cosmo_ap = {'omega_b': 0.02235, 'omega_cdm': 0.120, 'h': 0.6776, 'ln10^{10}A_s': 3.044, 'n_s': 0.965}\n",
    "M_fid.set(cosmo_ap)\n",
    "M_fid.set({'output': 'mPk', 'P_k_max_h/Mpc': 10, 'z_max_pk': z})\n",
    "M_fid.compute()\n",
    "\n",
    "Omega_m_fid = M_fid.Omega_m()\n",
    "H_fid, D_fid = M_fid.Hubble(z) / M_fid.Hubble(0.), M_fid.angular_distance(z) * M_fid.Hubble(0.)\n",
    "\n",
    "print ('Omega_m_fid: %.3f' % Omega_m_fid)"
   ]
  },
  {
   "cell_type": "markdown",
   "metadata": {},
   "source": [
    "Next, we create a PyBird Correlator engine `N`."
   ]
  },
  {
   "cell_type": "code",
   "execution_count": 11,
   "metadata": {},
   "outputs": [],
   "source": [
    "dk = 0.01\n",
    "kd = np.arange(0.005, 0.3, dk)"
   ]
  },
  {
   "cell_type": "code",
   "execution_count": 12,
   "metadata": {},
   "outputs": [],
   "source": [
    "N = Correlator()\n",
    "N.set({'output': 'bPk', 'multipole': 3, 'z': z, 'km': 0.7, 'kr': 0.35, 'nd': 4e-4, 'kmax': 0.3, 'xdata': kd, \n",
    "       'eft_basis': 'westcoast', 'with_stoch': True, \n",
    "       'with_ap': True, 'H_fid': H_fid, 'D_fid': D_fid,\n",
    "       'with_binning': True, 'binsize': dk,\n",
    "       'with_bias': True})"
   ]
  },
  {
   "cell_type": "markdown",
   "metadata": {},
   "source": [
    "Let us compute an EFT prediction on some fiducial EFT parameters. \n",
    "\n",
    "We load the fiducial EFT parameters from a previous fit. "
   ]
  },
  {
   "cell_type": "code",
   "execution_count": 13,
   "metadata": {},
   "outputs": [
    {
     "name": "stdout",
     "output_type": "stream",
     "text": [
      "{'b1': 1.9542, 'c2': 0.5904, 'c4': 0.0, 'b3': -0.3687, 'cct': 0.1825, 'cr1': -0.8476, 'cr2': -0.8134, 'ce0': 1.4985, 'ce1': 0.0, 'ce2': -1.6364, 'b2': 0.4175, 'b4': 0.4175}\n"
     ]
    }
   ],
   "source": [
    "outdir = os.path.join(datadir, 'eftboss', 'out')\n",
    "with open(os.path.join(outdir, 'fit_boss_onesky_pk_wc_cmass_ngc_l0.dat')) as f: data_file = f.read()\n",
    "eft_params_str = data_file.split(', \\n')[1].replace(\"# \", \"\")\n",
    "eft_truth = {key: float(value) for key, value in (pair.split(': ') for pair in eft_params_str.split(', '))}\n",
    "print (eft_truth)"
   ]
  },
  {
   "cell_type": "markdown",
   "metadata": {},
   "source": [
    "We give the linear power spectrum together with a bunch of cosmological parameters and EFT parameters to the PyBird Correlator engine: "
   ]
  },
  {
   "cell_type": "code",
   "execution_count": 14,
   "metadata": {},
   "outputs": [],
   "source": [
    "N.compute({'kk': kk, 'pk_lin': pk_lin, 'f': f1, 'H': H_ap, 'DA': D_ap, 'bias': eft_truth})"
   ]
  },
  {
   "cell_type": "markdown",
   "metadata": {},
   "source": [
    "This is the multipoles of the galaxy power spectrum: "
   ]
  },
  {
   "cell_type": "code",
   "execution_count": 15,
   "metadata": {},
   "outputs": [],
   "source": [
    "bpk = N.get()"
   ]
  },
  {
   "cell_type": "markdown",
   "metadata": {},
   "source": [
    "Finally, we need a covariance."
   ]
  },
  {
   "cell_type": "code",
   "execution_count": 16,
   "metadata": {},
   "outputs": [],
   "source": [
    "from scipy.special import legendre\n",
    "\n",
    "def get_cov(kk, ipklin, b1, f1, Vs=3.e9, nbar=3.e-4): # BOSS is about Vs ~ 3e9\n",
    "    dk = np.concatenate((kk[1:]-kk[:-1], [kk[-1]-kk[-2]])) # this is true for k >> kf\n",
    "    Nmode = 4 * np.pi * kk**2 * dk * (Vs / (2*np.pi)**3)\n",
    "    mu_arr = np.linspace(0., 1., 200)\n",
    "    k_mesh, mu_mesh = np.meshgrid(kk, mu_arr, indexing='ij')\n",
    "    legendre_mesh = np.array([legendre(2*l)(mu_mesh) for l in range(3)])\n",
    "    legendre_ell_mesh = np.array([(2*(2*l)+1)*legendre(2*l)(mu_mesh) for l in range(3)])\n",
    "    pkmu_mesh = (b1 + f1 * mu_mesh**2)**2 * ipklin(k_mesh)\n",
    "    integrand_mu_mesh = np.einsum('k,km,lkm,pkm->lpkm', 1./Nmode, (pkmu_mesh + 1/nbar)**2, \n",
    "                                  legendre_ell_mesh, legendre_ell_mesh)\n",
    "    cov_diagonal = 2 * np.trapz(integrand_mu_mesh, x=mu_arr, axis=-1)\n",
    "    return np.block([[np.diag(cov_diagonal[i,j]) for i in range(3)] for j in range(3)]) \n",
    "\n",
    "cov = get_cov(kd, ipk_lin, eft_truth['b1'], f1)\n",
    "err = np.sqrt(np.diag(cov)).reshape(3,-1)"
   ]
  },
  {
   "cell_type": "markdown",
   "metadata": {},
   "source": [
    "Let us plot our fake data"
   ]
  },
  {
   "cell_type": "code",
   "execution_count": 17,
   "metadata": {},
   "outputs": [
    {
     "data": {
      "image/png": "[encoded data removed]",
      "text/plain": [
       "<Figure size 700x400 with 1 Axes>"
      ]
     },
     "metadata": {},
     "output_type": "display_data"
    }
   ],
   "source": [
    "plt.figure(figsize=(7,4))\n",
    "for i in range(3): \n",
    "    plt.errorbar(kd, kd * bpk[i], yerr=kd*err[i], fmt='.', label=r'$\\ell=%s$' % (2*i))\n",
    "plt.xlabel(r'$k \\ [h/{\\rm Mpc}]$')\n",
    "plt.ylabel(r'$k \\ P_\\ell(k) \\ [{\\rm Mpc}/h]^2$')\n",
    "plt.legend()\n",
    "plt.show()"
   ]
  },
  {
   "cell_type": "markdown",
   "metadata": {},
   "source": [
    "### Creating the fake data"
   ]
  },
  {
   "cell_type": "markdown",
   "metadata": {},
   "source": [
    "We are now ready to create our fake data. For that, we can use the build-in function in the `ReadWrite` class. "
   ]
  },
  {
   "cell_type": "code",
   "execution_count": 18,
   "metadata": {},
   "outputs": [],
   "source": [
    "io = ReadWrite()"
   ]
  },
  {
   "cell_type": "markdown",
   "metadata": {},
   "source": [
    "The data structure is a dictionary. "
   ]
  },
  {
   "cell_type": "code",
   "execution_count": 19,
   "metadata": {},
   "outputs": [],
   "source": [
    "d = {}"
   ]
  },
  {
   "cell_type": "markdown",
   "metadata": {},
   "source": [
    "Each sky corresponds to an entry in this dictionary, which is itself a dictionary containing the data. \n",
    "\n",
    "Here we have only one sky, and we name it 'sky_1'. "
   ]
  },
  {
   "cell_type": "code",
   "execution_count": 20,
   "metadata": {},
   "outputs": [],
   "source": [
    "d['sky_1'] = {}"
   ]
  },
  {
   "cell_type": "markdown",
   "metadata": {},
   "source": [
    "We now start filling this dictionary with the data. "
   ]
  },
  {
   "cell_type": "code",
   "execution_count": 21,
   "metadata": {},
   "outputs": [
    {
     "name": "stdout",
     "output_type": "stream",
     "text": [
      "dict_keys(['min', 'max', 'eff'])\n",
      "dict_keys(['Omega_m', 'H', 'D'])\n"
     ]
    }
   ],
   "source": [
    "zmin, zmax, zeff = 0.43, 0.7, z\n",
    "io.write_common(d['sky_1'], zmin, zmax, zeff, Omega_m_fid, H_fid, D_fid)\n",
    "print (d['sky_1']['z'].keys())\n",
    "print (d['sky_1']['fid'].keys())"
   ]
  },
  {
   "cell_type": "code",
   "execution_count": 22,
   "metadata": {},
   "outputs": [
    {
     "name": "stdout",
     "output_type": "stream",
     "text": [
      "dict_keys(['multipole', 'x', 'cov', 'nsims', 'survey_mask', 'binsize', 'l0', 'l2', 'l4'])\n"
     ]
    }
   ],
   "source": [
    "mult_pk = 3\n",
    "io.write_pk(d['sky_1'], mult_pk, kd, bpk, cov, nsims_cov_pk=0, \n",
    "            survey_mask_arr_p=None, survey_mask_mat_kp=None,\n",
    "            binsize=dk)\n",
    "print (d['sky_1']['bPk'].keys())"
   ]
  },
  {
   "cell_type": "markdown",
   "metadata": {},
   "source": [
    "Here we are not providing a survey mask. One can compute the survey mask from random catalogs using https://github.com/pierrexyz/fkpwin , in a format compatible with PyBird: \n",
    "```\n",
    "survey_mask = np.load('output_fkpwin/Wlmkp_skyname.npz')\n",
    "survey_mask_arr_p = survey_mask['p']\n",
    "survey_mask_mat_kp = survey_mask['Wlm']\n",
    "```\n",
    "Also, there are two other build-in functions that we are not using here, feel free to explore!\n",
    "    \n",
    "```\n",
    "io.write_cf(d_sky, mult_cf, ss, cf, cov_cf, nsims_cov_cf=0, binsize=None)\n",
    "io.write_bao_rec(d_sky, bao_rec_rd_fid, bao_rec_H_fid, bao_rec_D_fid, alpha_par, alpha_per, \n",
    "                 cov_alpha, cov_cross_pk=None, cov_cross_cf=None)\n",
    "```\n",
    "\n"
   ]
  },
  {
   "cell_type": "markdown",
   "metadata": {},
   "source": [
    "Finally we save our fake data. "
   ]
  },
  {
   "cell_type": "code",
   "execution_count": 23,
   "metadata": {},
   "outputs": [],
   "source": [
    "with h5py.File(os.path.join(datadir, 'fake', 'fake_example_2pt.h5'), 'w') as hf: save_dict_to_hdf5(hf, d)"
   ]
  },
  {
   "cell_type": "markdown",
   "metadata": {},
   "source": [
    "### Testing the fake data"
   ]
  },
  {
   "cell_type": "markdown",
   "metadata": {},
   "source": [
    "Cool. Now let us test the fake data by maximazing the likelihood: do we recover the truth?\n",
    "\n",
    "We first need a configuration file. Let us create one. "
   ]
  },
  {
   "cell_type": "code",
   "execution_count": 24,
   "metadata": {},
   "outputs": [],
   "source": [
    "configdir = os.path.join(datadir, 'eftboss', 'config')"
   ]
  },
  {
   "cell_type": "markdown",
   "metadata": {},
   "source": [
    "For simplicity, let us load a configuration file and modify it accordingly. "
   ]
  },
  {
   "cell_type": "code",
   "execution_count": 25,
   "metadata": {},
   "outputs": [],
   "source": [
    "config = yaml.full_load(open(os.path.join(configdir, 'boss_cmass_ngc_pk_wc.yaml'), 'r'))\n",
    "config[\"data_path\"] = os.path.join(datadir, 'fake')\n",
    "config[\"data_file\"] = 'fake_example_2pt.h5'\n",
    "config[\"multipole\"] = 3\n",
    "config[\"with_survey_mask\"] = False\n",
    "config[\"with_binning\"] = True\n",
    "\n",
    "config[\"sky\"]['sky_1'] = config[\"sky\"].pop('cmass_ngc')\n",
    "config[\"sky\"]['sky_1']['min'] = [0.01, 0.01, 0.01]\n",
    "config[\"sky\"]['sky_1']['max'] = [0.20, 0.20, 0.20]\n",
    "\n",
    "config[\"write\"][\"fake\"] = True\n",
    "config[\"write\"][\"out_path\"] = os.path.join(datadir, 'fake', 'out')\n",
    "config[\"write\"][\"out_name\"] = 'sky_1'"
   ]
  },
  {
   "cell_type": "markdown",
   "metadata": {},
   "source": [
    "We center the prior on the truth for this check. "
   ]
  },
  {
   "cell_type": "code",
   "execution_count": 26,
   "metadata": {},
   "outputs": [],
   "source": [
    "for name, truth in eft_truth.items(): \n",
    "    if name not in ['b1', 'b2', 'b4', 'c4']: \n",
    "        config[\"eft_prior\"][name]['mean'] = [truth]"
   ]
  },
  {
   "cell_type": "code",
   "execution_count": 27,
   "metadata": {},
   "outputs": [
    {
     "name": "stdout",
     "output_type": "stream",
     "text": [
      "data_path: /Users/pierre/Documents/github/pybird/data/fake\n",
      "data_file: fake_example_2pt.h5\n",
      "output: bPk\n",
      "multipole: 3\n",
      "with_ap: true\n",
      "with_survey_mask: false\n",
      "sky:\n",
      "    sky_1:\n",
      "        min:\n",
      "        - 0.01\n",
      "        - 0.01\n",
      "        - 0.01\n",
      "        max:\n",
      "        - 0.2\n",
      "        - 0.2\n",
      "        - 0.2\n",
      "write:\n",
      "    save: true\n",
      "    fake: true\n",
      "    plot: true\n",
      "    show: true\n",
      "    out_path: /Users/pierre/Documents/github/pybird/data/fake/out\n",
      "    out_name: sky_1\n",
      "km: 0.7\n",
      "kr: 0.35\n",
      "nd: 0.0004\n",
      "eft_basis: westcoast\n",
      "with_stoch: true\n",
      "eft_prior:\n",
      "    b1:\n",
      "        type: flat\n",
      "        range: null\n",
      "    c2:\n",
      "        type: gauss\n",
      "        mean:\n",
      "        - 0.5904\n",
      "        range:\n",
      "        - 2.0\n",
      "    c4:\n",
      "        type: unvaried\n",
      "    b3:\n",
      "        type: marg_gauss\n",
      "        mean:\n",
      "        - -0.3687\n",
      "        range:\n",
      "        - 2.0\n",
      "    cct:\n",
      "        type: marg_gauss\n",
      "        mean:\n",
      "        - 0.1825\n",
      "        range:\n",
      "        - 2.0\n",
      "    cr1:\n",
      "        type: marg_gauss\n",
      "        mean:\n",
      "        - -0.8476\n",
      "        range:\n",
      "        - 2.0\n",
      "    cr2:\n",
      "        type: marg_gauss\n",
      "        mean:\n",
      "        - -0.8134\n",
      "        range:\n",
      "        - 2.0\n",
      "    ce0:\n",
      "        type: marg_gauss\n",
      "        mean:\n",
      "        - 1.4985\n",
      "        range:\n",
      "        - 2.0\n",
      "    ce1:\n",
      "        type: unvaried\n",
      "        mean:\n",
      "        - 0.0\n",
      "    ce2:\n",
      "        type: marg_gauss\n",
      "        mean:\n",
      "        - -1.6364\n",
      "        range:\n",
      "        - 2.0\n",
      "with_binning: true\n",
      "\n"
     ]
    }
   ],
   "source": [
    "print ( yaml.dump(config, indent=4, sort_keys=False))"
   ]
  },
  {
   "cell_type": "markdown",
   "metadata": {},
   "source": [
    "Let us setup the likelihood with this configuration. "
   ]
  },
  {
   "cell_type": "code",
   "execution_count": 28,
   "metadata": {},
   "outputs": [
    {
     "name": "stdout",
     "output_type": "stream",
     "text": [
      "-----------------------\n",
      "sky: sky_1\n",
      "output: bPk\n",
      "multipole: 3\n",
      "min bound (per multipole): [0.01, 0.01, 0.01]\n",
      "max bound (per multipole): [0.2, 0.2, 0.2]\n",
      "coordinate (AP) distortion: on\n",
      "binning: on\n",
      "-----------------------\n",
      "-----------------------\n",
      "get_maxlkl : False\n",
      "with_boss_correlated_skies_prior : False\n",
      "with_rs_marg : False\n",
      "-----------------------\n"
     ]
    }
   ],
   "source": [
    "L = Likelihood(config)"
   ]
  },
  {
   "cell_type": "markdown",
   "metadata": {},
   "source": [
    "We initialize the likelihood. "
   ]
  },
  {
   "cell_type": "code",
   "execution_count": 29,
   "metadata": {},
   "outputs": [],
   "source": [
    "eft_name = ['b1', 'c2'] \n",
    "eft_init = [2, 0.] \n",
    "init = L.loglkl(eft_init, eft_name, M, need_cosmo_update=True)"
   ]
  },
  {
   "cell_type": "markdown",
   "metadata": {},
   "source": [
    "We can now maximize the likelihood. "
   ]
  },
  {
   "cell_type": "code",
   "execution_count": 30,
   "metadata": {},
   "outputs": [
    {
     "name": "stdout",
     "output_type": "stream",
     "text": [
      "min chi2: 0.00, p-value: 1.000\n"
     ]
    }
   ],
   "source": [
    "L.c[\"get_maxlkl\"] = True # minimization mode\n",
    "\n",
    "def chi2(eft_params): return -2. * L.loglkl(eft_params, eft_name, M, need_cosmo_update=False)\n",
    "minimum = minuit(chi2, eft_init)\n",
    "\n",
    "from scipy import stats\n",
    "def pvalue(minchi2, dof): return 1. - stats.chi2.cdf(minchi2, dof)\n",
    "dof = L.y_all.shape[0] - len(eft_name) - L.Ng # number of data points - EFT parameters\n",
    "print ('min chi2: %.2f, p-value: %.3f' % (minimum['fun'], pvalue(minimum['fun'], dof)))"
   ]
  },
  {
   "cell_type": "markdown",
   "metadata": {},
   "source": [
    "Looks like we have recovered the truth ($\\chi^2 = 0$)! Let us see how well we have recovered it: "
   ]
  },
  {
   "cell_type": "code",
   "execution_count": 31,
   "metadata": {},
   "outputs": [
    {
     "name": "stdout",
     "output_type": "stream",
     "text": [
      "- ratio fit/truth -\n",
      "b1: 1.00\n",
      "c2: 1.00\n",
      "b3: 1.00\n",
      "cct: 1.00\n",
      "cr1: 1.01\n",
      "cr2: 0.99\n",
      "ce0: 1.00\n",
      "ce2: 1.00\n"
     ]
    }
   ],
   "source": [
    "print ('- ratio fit/truth -')\n",
    "for name, truth, fit in zip(eft_truth.keys(), eft_truth.values(), L.out[0]['eft_parameters'].values()):\n",
    "    if name not in ['b2', 'b4', 'c4', 'ce1']: # those are not in the westcoast prior\n",
    "        print ('%s: %.2f' % (name, fit/truth))"
   ]
  },
  {
   "cell_type": "markdown",
   "metadata": {},
   "source": [
    "### Build-in fake data generator from best fit"
   ]
  },
  {
   "cell_type": "markdown",
   "metadata": {},
   "source": [
    "By the way, did you know that there is a build-in function that can create fake data directly from a fit?\n",
    "\n",
    "This happens if we set: ```config[\"write\"][\"fake\"] = True``` and run the following function: "
   ]
  },
  {
   "cell_type": "code",
   "execution_count": 32,
   "metadata": {},
   "outputs": [
    {
     "name": "stdout",
     "output_type": "stream",
     "text": [
      "fake data from best fit saved to /Users/pierre/Documents/github/pybird/data/fake.\n",
      "data files with best fit saved to /Users/pierre/Documents/github/pybird/data/fake/out.\n",
      "data plot with best fit saved to /Users/pierre/Documents/github/pybird/data/fake/out.\n"
     ]
    },
    {
     "data": {
      "image/png": "[encoded data removed]",
      "text/plain": [
       "<Figure size 640x480 with 1 Axes>"
      ]
     },
     "metadata": {},
     "output_type": "display_data"
    }
   ],
   "source": [
    "L.write()"
   ]
  },
  {
   "cell_type": "markdown",
   "metadata": {},
   "source": [
    "Let us see if this is real! This is the automatically generated file from the previous minimization:"
   ]
  },
  {
   "cell_type": "code",
   "execution_count": 33,
   "metadata": {},
   "outputs": [],
   "source": [
    "config[\"data_file\"] = 'fake_sky_1.h5'"
   ]
  },
  {
   "cell_type": "markdown",
   "metadata": {},
   "source": [
    "Let us try it."
   ]
  },
  {
   "cell_type": "code",
   "execution_count": 34,
   "metadata": {},
   "outputs": [
    {
     "name": "stdout",
     "output_type": "stream",
     "text": [
      "-----------------------\n",
      "sky: sky_1\n",
      "output: bPk\n",
      "multipole: 3\n",
      "min bound (per multipole): [0.01, 0.01, 0.01]\n",
      "max bound (per multipole): [0.2, 0.2, 0.2]\n",
      "coordinate (AP) distortion: on\n",
      "binning: on\n",
      "-----------------------\n",
      "-----------------------\n",
      "get_maxlkl : True\n",
      "with_boss_correlated_skies_prior : False\n",
      "with_rs_marg : False\n",
      "-----------------------\n"
     ]
    }
   ],
   "source": [
    "L = Likelihood(config)"
   ]
  },
  {
   "cell_type": "code",
   "execution_count": 35,
   "metadata": {},
   "outputs": [],
   "source": [
    "init = L.loglkl(eft_init, eft_name, M, need_cosmo_update=True)"
   ]
  },
  {
   "cell_type": "code",
   "execution_count": 36,
   "metadata": {},
   "outputs": [
    {
     "name": "stdout",
     "output_type": "stream",
     "text": [
      "min chi2: 0.00, p-value: 1.000\n"
     ]
    }
   ],
   "source": [
    "L.c[\"get_maxlkl\"] = True # minimization mode\n",
    "\n",
    "def chi2(eft_params): return -2. * L.loglkl(eft_params, eft_name, M, need_cosmo_update=False)\n",
    "minimum = minuit(chi2, eft_init)\n",
    "\n",
    "from scipy import stats\n",
    "def pvalue(minchi2, dof): return 1. - stats.chi2.cdf(minchi2, dof)\n",
    "dof = L.y_all.shape[0] - len(eft_name) - L.Ng # number of data points - EFT parameters\n",
    "print ('min chi2: %.2f, p-value: %.3f' % (minimum['fun'], pvalue(minimum['fun'], dof)))"
   ]
  },
  {
   "cell_type": "markdown",
   "metadata": {},
   "source": [
    "Cool."
   ]
  },
  {
   "cell_type": "code",
   "execution_count": null,
   "metadata": {},
   "outputs": [],
   "source": []
  }
 ],
 "metadata": {
  "kernelspec": {
   "display_name": "Python 3 (ipykernel)",
   "language": "python",
   "name": "python3"
  },
  "language_info": {
   "codemirror_mode": {
    "name": "ipython",
    "version": 3
   },
   "file_extension": ".py",
   "mimetype": "text/x-python",
   "name": "python",
   "nbconvert_exporter": "python",
   "pygments_lexer": "ipython3",
   "version": "3.11.9"
  }
 },
 "nbformat": 4,
 "nbformat_minor": 4
}
